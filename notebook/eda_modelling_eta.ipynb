{
 "cells": [
  {
   "cell_type": "code",
   "execution_count": 1,
   "metadata": {},
   "outputs": [],
   "source": [
    "from pyspark.sql import SparkSession\n",
    "import pandas\n",
    "import numpy\n",
    "import matplotlib.pyplot as plt\n",
    "plt.style.use(\"fivethirtyeight\")\n",
    "import warnings\n",
    "warnings.filterwarnings(\"ignore\")\n",
    "import os"
   ]
  },
  {
   "cell_type": "markdown",
   "metadata": {},
   "source": [
    "Create SparkSession"
   ]
  },
  {
   "cell_type": "code",
   "execution_count": 2,
   "metadata": {},
   "outputs": [
    {
     "name": "stderr",
     "output_type": "stream",
     "text": [
      "24/11/27 21:15:26 WARN Utils: Your hostname, an-nguyen-ThinkPad-P14s-Gen-3 resolves to a loopback address: 127.0.1.1; using 10.17.3.160 instead (on interface wlp2s0)\n",
      "24/11/27 21:15:26 WARN Utils: Set SPARK_LOCAL_IP if you need to bind to another address\n",
      "Setting default log level to \"WARN\".\n",
      "To adjust logging level use sc.setLogLevel(newLevel). For SparkR, use setLogLevel(newLevel).\n",
      "24/11/27 21:15:26 WARN NativeCodeLoader: Unable to load native-hadoop library for your platform... using builtin-java classes where applicable\n"
     ]
    }
   ],
   "source": [
    "spark = SparkSession.builder.appName(\"NYC_ETA\").getOrCreate()"
   ]
  },
  {
   "cell_type": "markdown",
   "metadata": {},
   "source": [
    "Read Parquet Files"
   ]
  },
  {
   "cell_type": "code",
   "execution_count": 6,
   "metadata": {},
   "outputs": [
    {
     "name": "stderr",
     "output_type": "stream",
     "text": [
      "24/11/27 21:16:58 WARN MemoryManager: Total allocation exceeds 95.00% (1,020,054,720 bytes) of heap memory\n",
      "Scaling row group sizes to 95.00% for 8 writers\n",
      "24/11/27 21:16:58 WARN MemoryManager: Total allocation exceeds 95.00% (1,020,054,720 bytes) of heap memory\n",
      "Scaling row group sizes to 84.44% for 9 writers\n",
      "24/11/27 21:16:58 WARN MemoryManager: Total allocation exceeds 95.00% (1,020,054,720 bytes) of heap memory\n",
      "Scaling row group sizes to 76.00% for 10 writers\n",
      "24/11/27 21:17:00 WARN MemoryManager: Total allocation exceeds 95.00% (1,020,054,720 bytes) of heap memory\n",
      "Scaling row group sizes to 84.44% for 9 writers\n",
      "24/11/27 21:17:02 WARN MemoryManager: Total allocation exceeds 95.00% (1,020,054,720 bytes) of heap memory\n",
      "Scaling row group sizes to 95.00% for 8 writers\n",
      "                                                                                \r"
     ]
    },
    {
     "name": "stdout",
     "output_type": "stream",
     "text": [
      "+--------+--------------------+---------------------+---------------+-------------+----------+------------------+------------+------------+------------+-----------+-----+-------+----------+------------+---------------------+------------+--------------------+-----------+\n",
      "|VendorID|tpep_pickup_datetime|tpep_dropoff_datetime|passenger_count|trip_distance|RatecodeID|store_and_fwd_flag|PULocationID|DOLocationID|payment_type|fare_amount|extra|mta_tax|tip_amount|tolls_amount|improvement_surcharge|total_amount|congestion_surcharge|Airport_fee|\n",
      "+--------+--------------------+---------------------+---------------+-------------+----------+------------------+------------+------------+------------+-----------+-----+-------+----------+------------+---------------------+------------+--------------------+-----------+\n",
      "|       1| 2024-07-01 00:34:56|  2024-07-01 00:46:49|              1|          3.2|         1|                 N|         140|          79|           1|       15.6|  3.5|    0.5|       3.5|         0.0|                  1.0|        24.1|                 2.5|        0.0|\n",
      "|       2| 2024-06-30 23:48:58|  2024-07-01 00:28:04|              1|        19.48|         2|                 N|         132|         113|           2|       70.0|  0.0|    0.5|       0.0|         0.0|                  1.0|       75.75|                 2.5|       1.75|\n",
      "|       2| 2024-07-01 00:23:18|  2024-07-01 00:29:51|              1|         1.18|         1|                 N|         237|         145|           1|        8.6|  1.0|    0.5|      2.72|         0.0|                  1.0|       16.32|                 2.5|        0.0|\n",
      "|       1| 2024-07-01 00:10:33|  2024-07-01 00:27:31|              0|          9.1|         1|                 N|         138|         164|           1|       36.6|10.25|    0.5|     12.05|         0.0|                  1.0|        60.4|                 2.5|       1.75|\n",
      "|       1| 2024-07-01 00:07:55|  2024-07-01 00:34:34|              1|         17.7|         2|                 N|         132|         263|           1|       70.0| 1.75|    0.5|      10.0|        6.94|                  1.0|       90.19|                 0.0|       1.75|\n",
      "|       2| 2024-07-01 00:19:42|  2024-07-01 00:32:13|              1|         2.21|         1|                 N|         114|         170|           2|       14.9|  1.0|    0.5|       0.0|         0.0|                  1.0|        19.9|                 2.5|        0.0|\n",
      "|       1| 2024-07-01 00:09:04|  2024-07-01 00:14:30|              1|          0.9|         1|                 N|         246|          68|           1|        7.2|  3.5|    0.5|       2.4|         0.0|                  1.0|        14.6|                 2.5|        0.0|\n",
      "|       1| 2024-07-01 00:34:04|  2024-07-01 00:43:13|              1|          2.1|         1|                 N|          68|         107|           1|       12.1|  3.5|    0.5|      2.57|         0.0|                  1.0|       19.67|                 2.5|        0.0|\n",
      "|       1| 2024-07-01 00:59:52|  2024-07-01 01:05:27|              2|          1.0|         1|                 N|         249|          79|           1|        7.9|  3.5|    0.5|      0.09|         0.0|                  1.0|       12.99|                 2.5|        0.0|\n",
      "|       1| 2024-07-01 00:43:12|  2024-07-01 00:50:08|              1|          0.8|         1|                 N|          68|         246|           1|        6.5|  3.5|    0.5|       2.3|         0.0|                  1.0|        13.8|                 2.5|        0.0|\n",
      "|       2| 2024-07-01 00:13:50|  2024-07-01 00:28:03|              1|         3.59|         1|                 N|         100|         232|           1|       18.4|  1.0|    0.5|      4.68|         0.0|                  1.0|       28.08|                 2.5|        0.0|\n",
      "|       2| 2024-07-01 00:32:24|  2024-07-01 00:35:16|              1|         0.57|         1|                 N|         237|         140|           1|        5.1|  1.0|    0.5|       0.0|         0.0|                  1.0|        10.1|                 2.5|        0.0|\n",
      "|       2| 2024-07-01 00:43:34|  2024-07-01 01:01:43|              1|         9.99|         1|                 N|         138|         244|           1|       40.1|  6.0|    0.5|       0.0|        6.94|                  1.0|       56.29|                 0.0|       1.75|\n",
      "|       2| 2024-07-01 00:52:25|  2024-07-01 01:17:53|              2|        11.09|         1|                 N|         132|          91|           2|       45.7|  1.0|    0.5|       0.0|         0.0|                  1.0|       49.95|                 0.0|       1.75|\n",
      "|       1| 2024-07-01 00:51:18|  2024-07-01 01:01:42|              1|          3.5|         1|                 N|         138|         179|           1|       15.6| 7.75|    0.5|      4.95|         0.0|                  1.0|        29.8|                 0.0|       1.75|\n",
      "|       1| 2024-07-01 00:33:24|  2024-07-01 00:54:44|              1|          3.3|         1|                 N|         152|         168|           3|       20.5|  1.0|    0.5|       0.0|         0.0|                  1.0|        23.0|                 0.0|        0.0|\n",
      "|       1| 2024-07-01 00:48:53|  2024-07-01 01:22:13|              0|          6.2|         1|                 N|         249|         151|           1|       35.2|  3.5|    0.5|       5.0|         0.0|                  1.0|        45.2|                 2.5|        0.0|\n",
      "|       1| 2024-07-01 00:56:52|  2024-07-01 01:12:59|              1|          3.3|         1|                 N|         186|         238|           2|       15.6|  3.5|    0.5|       0.0|         0.0|                  1.0|        20.6|                 2.5|        0.0|\n",
      "|       2| 2024-07-01 00:50:54|  2024-07-01 00:55:43|              1|         0.77|         1|                 N|         162|         230|           1|        6.5|  1.0|    0.5|       2.3|         0.0|                  1.0|        13.8|                 2.5|        0.0|\n",
      "|       2| 2024-07-01 00:25:44|  2024-07-01 00:25:45|              1|          0.0|         5|                 N|         264|         264|           1|       13.0|  0.0|    0.5|       0.0|         0.0|                  1.0|        14.5|                 0.0|        0.0|\n",
      "+--------+--------------------+---------------------+---------------+-------------+----------+------------------+------------+------------+------------+-----------+-----+-------+----------+------------+---------------------+------------+--------------------+-----------+\n",
      "only showing top 20 rows\n",
      "\n"
     ]
    }
   ],
   "source": [
    "jul_data_path = \"../data/yellow_tripdata_2024-07.parquet\"\n",
    "aug_data_path = \"../data/yellow_tripdata_2024-08.parquet\"\n",
    "sep_data_path = \"../data/yellow_tripdata_2024-09.parquet\"\n",
    "df_jul = spark.read.parquet(jul_data_path)\n",
    "df_aug = spark.read.parquet(aug_data_path)\n",
    "df_sep = spark.read.parquet(sep_data_path)\n",
    "\n",
    "df = df_jul.union(df_aug).union(df_sep)\n",
    "\n",
    "output_path = \"../data/merged_yellow_tripdata_2024_Q3.parquet\"\n",
    "df.write.parquet(output_path)\n",
    "\n",
    "df.show()"
   ]
  },
  {
   "cell_type": "code",
   "execution_count": 8,
   "metadata": {},
   "outputs": [
    {
     "name": "stdout",
     "output_type": "stream",
     "text": [
      "root\n",
      " |-- VendorID: integer (nullable = true)\n",
      " |-- tpep_pickup_datetime: timestamp_ntz (nullable = true)\n",
      " |-- tpep_dropoff_datetime: timestamp_ntz (nullable = true)\n",
      " |-- passenger_count: long (nullable = true)\n",
      " |-- trip_distance: double (nullable = true)\n",
      " |-- RatecodeID: long (nullable = true)\n",
      " |-- store_and_fwd_flag: string (nullable = true)\n",
      " |-- PULocationID: integer (nullable = true)\n",
      " |-- DOLocationID: integer (nullable = true)\n",
      " |-- payment_type: long (nullable = true)\n",
      " |-- fare_amount: double (nullable = true)\n",
      " |-- extra: double (nullable = true)\n",
      " |-- mta_tax: double (nullable = true)\n",
      " |-- tip_amount: double (nullable = true)\n",
      " |-- tolls_amount: double (nullable = true)\n",
      " |-- improvement_surcharge: double (nullable = true)\n",
      " |-- total_amount: double (nullable = true)\n",
      " |-- congestion_surcharge: double (nullable = true)\n",
      " |-- Airport_fee: double (nullable = true)\n",
      "\n"
     ]
    }
   ],
   "source": [
    "df.printSchema()"
   ]
  },
  {
   "cell_type": "markdown",
   "metadata": {},
   "source": [
    "![data_schema.png](./data_schema.png)"
   ]
  },
  {
   "cell_type": "markdown",
   "metadata": {},
   "source": [
    "Get Taxi Zone Data"
   ]
  },
  {
   "cell_type": "code",
   "execution_count": 11,
   "metadata": {},
   "outputs": [
    {
     "name": "stdout",
     "output_type": "stream",
     "text": [
      "+----------+-------------+--------------------+------------+\n",
      "|LocationID|      Borough|                Zone|service_zone|\n",
      "+----------+-------------+--------------------+------------+\n",
      "|         1|          EWR|      Newark Airport|         EWR|\n",
      "|         2|       Queens|         Jamaica Bay|   Boro Zone|\n",
      "|         3|        Bronx|Allerton/Pelham G...|   Boro Zone|\n",
      "|         4|    Manhattan|       Alphabet City| Yellow Zone|\n",
      "|         5|Staten Island|       Arden Heights|   Boro Zone|\n",
      "|         6|Staten Island|Arrochar/Fort Wad...|   Boro Zone|\n",
      "|         7|       Queens|             Astoria|   Boro Zone|\n",
      "|         8|       Queens|        Astoria Park|   Boro Zone|\n",
      "|         9|       Queens|          Auburndale|   Boro Zone|\n",
      "|        10|       Queens|        Baisley Park|   Boro Zone|\n",
      "|        11|     Brooklyn|          Bath Beach|   Boro Zone|\n",
      "|        12|    Manhattan|        Battery Park| Yellow Zone|\n",
      "|        13|    Manhattan|   Battery Park City| Yellow Zone|\n",
      "|        14|     Brooklyn|           Bay Ridge|   Boro Zone|\n",
      "|        15|       Queens|Bay Terrace/Fort ...|   Boro Zone|\n",
      "|        16|       Queens|             Bayside|   Boro Zone|\n",
      "|        17|     Brooklyn|             Bedford|   Boro Zone|\n",
      "|        18|        Bronx|        Bedford Park|   Boro Zone|\n",
      "|        19|       Queens|           Bellerose|   Boro Zone|\n",
      "|        20|        Bronx|             Belmont|   Boro Zone|\n",
      "+----------+-------------+--------------------+------------+\n",
      "only showing top 20 rows\n",
      "\n"
     ]
    }
   ],
   "source": [
    "zones_df = spark.read.csv(\"../data/taxi_zone_lookup.csv\", header=True, inferSchema=True)\n",
    "zones_df.show()"
   ]
  },
  {
   "cell_type": "code",
   "execution_count": 12,
   "metadata": {},
   "outputs": [
    {
     "name": "stdout",
     "output_type": "stream",
     "text": [
      "+--------+--------------------+---------------------+---------------+-------------+----------+------------------+------------+------------+------------+-----------+-----+-------+----------+------------+---------------------+------------+--------------------+-----------+----------+--------------------+---------------+\n",
      "|VendorID|tpep_pickup_datetime|tpep_dropoff_datetime|passenger_count|trip_distance|RatecodeID|store_and_fwd_flag|PULocationID|DOLocationID|payment_type|fare_amount|extra|mta_tax|tip_amount|tolls_amount|improvement_surcharge|total_amount|congestion_surcharge|Airport_fee|PU_Borough|             PU_Zone|PU_service_zone|\n",
      "+--------+--------------------+---------------------+---------------+-------------+----------+------------------+------------+------------+------------+-----------+-----+-------+----------+------------+---------------------+------------+--------------------+-----------+----------+--------------------+---------------+\n",
      "|       1| 2024-07-01 00:34:56|  2024-07-01 00:46:49|              1|          3.2|         1|                 N|         140|          79|           1|       15.6|  3.5|    0.5|       3.5|         0.0|                  1.0|        24.1|                 2.5|        0.0| Manhattan|     Lenox Hill East|    Yellow Zone|\n",
      "|       2| 2024-06-30 23:48:58|  2024-07-01 00:28:04|              1|        19.48|         2|                 N|         132|         113|           2|       70.0|  0.0|    0.5|       0.0|         0.0|                  1.0|       75.75|                 2.5|       1.75|    Queens|         JFK Airport|       Airports|\n",
      "|       2| 2024-07-01 00:23:18|  2024-07-01 00:29:51|              1|         1.18|         1|                 N|         237|         145|           1|        8.6|  1.0|    0.5|      2.72|         0.0|                  1.0|       16.32|                 2.5|        0.0| Manhattan|Upper East Side S...|    Yellow Zone|\n",
      "|       1| 2024-07-01 00:10:33|  2024-07-01 00:27:31|              0|          9.1|         1|                 N|         138|         164|           1|       36.6|10.25|    0.5|     12.05|         0.0|                  1.0|        60.4|                 2.5|       1.75|    Queens|   LaGuardia Airport|       Airports|\n",
      "|       1| 2024-07-01 00:07:55|  2024-07-01 00:34:34|              1|         17.7|         2|                 N|         132|         263|           1|       70.0| 1.75|    0.5|      10.0|        6.94|                  1.0|       90.19|                 0.0|       1.75|    Queens|         JFK Airport|       Airports|\n",
      "|       2| 2024-07-01 00:19:42|  2024-07-01 00:32:13|              1|         2.21|         1|                 N|         114|         170|           2|       14.9|  1.0|    0.5|       0.0|         0.0|                  1.0|        19.9|                 2.5|        0.0| Manhattan|Greenwich Village...|    Yellow Zone|\n",
      "|       1| 2024-07-01 00:09:04|  2024-07-01 00:14:30|              1|          0.9|         1|                 N|         246|          68|           1|        7.2|  3.5|    0.5|       2.4|         0.0|                  1.0|        14.6|                 2.5|        0.0| Manhattan|West Chelsea/Huds...|    Yellow Zone|\n",
      "|       1| 2024-07-01 00:34:04|  2024-07-01 00:43:13|              1|          2.1|         1|                 N|          68|         107|           1|       12.1|  3.5|    0.5|      2.57|         0.0|                  1.0|       19.67|                 2.5|        0.0| Manhattan|        East Chelsea|    Yellow Zone|\n",
      "|       1| 2024-07-01 00:59:52|  2024-07-01 01:05:27|              2|          1.0|         1|                 N|         249|          79|           1|        7.9|  3.5|    0.5|      0.09|         0.0|                  1.0|       12.99|                 2.5|        0.0| Manhattan|        West Village|    Yellow Zone|\n",
      "|       1| 2024-07-01 00:43:12|  2024-07-01 00:50:08|              1|          0.8|         1|                 N|          68|         246|           1|        6.5|  3.5|    0.5|       2.3|         0.0|                  1.0|        13.8|                 2.5|        0.0| Manhattan|        East Chelsea|    Yellow Zone|\n",
      "|       2| 2024-07-01 00:13:50|  2024-07-01 00:28:03|              1|         3.59|         1|                 N|         100|         232|           1|       18.4|  1.0|    0.5|      4.68|         0.0|                  1.0|       28.08|                 2.5|        0.0| Manhattan|    Garment District|    Yellow Zone|\n",
      "|       2| 2024-07-01 00:32:24|  2024-07-01 00:35:16|              1|         0.57|         1|                 N|         237|         140|           1|        5.1|  1.0|    0.5|       0.0|         0.0|                  1.0|        10.1|                 2.5|        0.0| Manhattan|Upper East Side S...|    Yellow Zone|\n",
      "|       2| 2024-07-01 00:43:34|  2024-07-01 01:01:43|              1|         9.99|         1|                 N|         138|         244|           1|       40.1|  6.0|    0.5|       0.0|        6.94|                  1.0|       56.29|                 0.0|       1.75|    Queens|   LaGuardia Airport|       Airports|\n",
      "|       2| 2024-07-01 00:52:25|  2024-07-01 01:17:53|              2|        11.09|         1|                 N|         132|          91|           2|       45.7|  1.0|    0.5|       0.0|         0.0|                  1.0|       49.95|                 0.0|       1.75|    Queens|         JFK Airport|       Airports|\n",
      "|       1| 2024-07-01 00:51:18|  2024-07-01 01:01:42|              1|          3.5|         1|                 N|         138|         179|           1|       15.6| 7.75|    0.5|      4.95|         0.0|                  1.0|        29.8|                 0.0|       1.75|    Queens|   LaGuardia Airport|       Airports|\n",
      "|       1| 2024-07-01 00:33:24|  2024-07-01 00:54:44|              1|          3.3|         1|                 N|         152|         168|           3|       20.5|  1.0|    0.5|       0.0|         0.0|                  1.0|        23.0|                 0.0|        0.0| Manhattan|      Manhattanville|      Boro Zone|\n",
      "|       1| 2024-07-01 00:48:53|  2024-07-01 01:22:13|              0|          6.2|         1|                 N|         249|         151|           1|       35.2|  3.5|    0.5|       5.0|         0.0|                  1.0|        45.2|                 2.5|        0.0| Manhattan|        West Village|    Yellow Zone|\n",
      "|       1| 2024-07-01 00:56:52|  2024-07-01 01:12:59|              1|          3.3|         1|                 N|         186|         238|           2|       15.6|  3.5|    0.5|       0.0|         0.0|                  1.0|        20.6|                 2.5|        0.0| Manhattan|Penn Station/Madi...|    Yellow Zone|\n",
      "|       2| 2024-07-01 00:50:54|  2024-07-01 00:55:43|              1|         0.77|         1|                 N|         162|         230|           1|        6.5|  1.0|    0.5|       2.3|         0.0|                  1.0|        13.8|                 2.5|        0.0| Manhattan|        Midtown East|    Yellow Zone|\n",
      "|       2| 2024-07-01 00:25:44|  2024-07-01 00:25:45|              1|          0.0|         5|                 N|         264|         264|           1|       13.0|  0.0|    0.5|       0.0|         0.0|                  1.0|        14.5|                 0.0|        0.0|   Unknown|                 N/A|            N/A|\n",
      "+--------+--------------------+---------------------+---------------+-------------+----------+------------------+------------+------------+------------+-----------+-----+-------+----------+------------+---------------------+------------+--------------------+-----------+----------+--------------------+---------------+\n",
      "only showing top 20 rows\n",
      "\n"
     ]
    }
   ],
   "source": [
    "df = df.join(zones_df, df.PULocationID == zones_df.LocationID, \"inner\")\n",
    "\n",
    "df = df \\\n",
    "    .withColumnRenamed(\"Borough\", \"PU_Borough\") \\\n",
    "    .withColumnRenamed(\"Zone\", \"PU_Zone\") \\\n",
    "    .withColumnRenamed(\"service_zone\", \"PU_service_zone\")\n",
    "\n",
    "df = df.drop(\"LocationID\")\n",
    "\n",
    "df.show()"
   ]
  },
  {
   "cell_type": "code",
   "execution_count": 13,
   "metadata": {},
   "outputs": [
    {
     "name": "stdout",
     "output_type": "stream",
     "text": [
      "+--------+--------------------+---------------------+---------------+-------------+----------+------------------+------------+------------+------------+-----------+-----+-------+----------+------------+---------------------+------------+--------------------+-----------+----------+--------------------+---------------+----------+--------------------+---------------+\n",
      "|VendorID|tpep_pickup_datetime|tpep_dropoff_datetime|passenger_count|trip_distance|RatecodeID|store_and_fwd_flag|PULocationID|DOLocationID|payment_type|fare_amount|extra|mta_tax|tip_amount|tolls_amount|improvement_surcharge|total_amount|congestion_surcharge|Airport_fee|PU_Borough|             PU_Zone|PU_service_zone|DO_Borough|             DO_Zone|DO_service_zone|\n",
      "+--------+--------------------+---------------------+---------------+-------------+----------+------------------+------------+------------+------------+-----------+-----+-------+----------+------------+---------------------+------------+--------------------+-----------+----------+--------------------+---------------+----------+--------------------+---------------+\n",
      "|       1| 2024-07-01 00:34:56|  2024-07-01 00:46:49|              1|          3.2|         1|                 N|         140|          79|           1|       15.6|  3.5|    0.5|       3.5|         0.0|                  1.0|        24.1|                 2.5|        0.0| Manhattan|     Lenox Hill East|    Yellow Zone| Manhattan|        East Village|    Yellow Zone|\n",
      "|       2| 2024-06-30 23:48:58|  2024-07-01 00:28:04|              1|        19.48|         2|                 N|         132|         113|           2|       70.0|  0.0|    0.5|       0.0|         0.0|                  1.0|       75.75|                 2.5|       1.75|    Queens|         JFK Airport|       Airports| Manhattan|Greenwich Village...|    Yellow Zone|\n",
      "|       2| 2024-07-01 00:23:18|  2024-07-01 00:29:51|              1|         1.18|         1|                 N|         237|         145|           1|        8.6|  1.0|    0.5|      2.72|         0.0|                  1.0|       16.32|                 2.5|        0.0| Manhattan|Upper East Side S...|    Yellow Zone|    Queens|Long Island City/...|      Boro Zone|\n",
      "|       1| 2024-07-01 00:10:33|  2024-07-01 00:27:31|              0|          9.1|         1|                 N|         138|         164|           1|       36.6|10.25|    0.5|     12.05|         0.0|                  1.0|        60.4|                 2.5|       1.75|    Queens|   LaGuardia Airport|       Airports| Manhattan|       Midtown South|    Yellow Zone|\n",
      "|       1| 2024-07-01 00:07:55|  2024-07-01 00:34:34|              1|         17.7|         2|                 N|         132|         263|           1|       70.0| 1.75|    0.5|      10.0|        6.94|                  1.0|       90.19|                 0.0|       1.75|    Queens|         JFK Airport|       Airports| Manhattan|      Yorkville West|    Yellow Zone|\n",
      "|       2| 2024-07-01 00:19:42|  2024-07-01 00:32:13|              1|         2.21|         1|                 N|         114|         170|           2|       14.9|  1.0|    0.5|       0.0|         0.0|                  1.0|        19.9|                 2.5|        0.0| Manhattan|Greenwich Village...|    Yellow Zone| Manhattan|         Murray Hill|    Yellow Zone|\n",
      "|       1| 2024-07-01 00:09:04|  2024-07-01 00:14:30|              1|          0.9|         1|                 N|         246|          68|           1|        7.2|  3.5|    0.5|       2.4|         0.0|                  1.0|        14.6|                 2.5|        0.0| Manhattan|West Chelsea/Huds...|    Yellow Zone| Manhattan|        East Chelsea|    Yellow Zone|\n",
      "|       1| 2024-07-01 00:34:04|  2024-07-01 00:43:13|              1|          2.1|         1|                 N|          68|         107|           1|       12.1|  3.5|    0.5|      2.57|         0.0|                  1.0|       19.67|                 2.5|        0.0| Manhattan|        East Chelsea|    Yellow Zone| Manhattan|            Gramercy|    Yellow Zone|\n",
      "|       1| 2024-07-01 00:59:52|  2024-07-01 01:05:27|              2|          1.0|         1|                 N|         249|          79|           1|        7.9|  3.5|    0.5|      0.09|         0.0|                  1.0|       12.99|                 2.5|        0.0| Manhattan|        West Village|    Yellow Zone| Manhattan|        East Village|    Yellow Zone|\n",
      "|       1| 2024-07-01 00:43:12|  2024-07-01 00:50:08|              1|          0.8|         1|                 N|          68|         246|           1|        6.5|  3.5|    0.5|       2.3|         0.0|                  1.0|        13.8|                 2.5|        0.0| Manhattan|        East Chelsea|    Yellow Zone| Manhattan|West Chelsea/Huds...|    Yellow Zone|\n",
      "|       2| 2024-07-01 00:13:50|  2024-07-01 00:28:03|              1|         3.59|         1|                 N|         100|         232|           1|       18.4|  1.0|    0.5|      4.68|         0.0|                  1.0|       28.08|                 2.5|        0.0| Manhattan|    Garment District|    Yellow Zone| Manhattan|Two Bridges/Sewar...|    Yellow Zone|\n",
      "|       2| 2024-07-01 00:32:24|  2024-07-01 00:35:16|              1|         0.57|         1|                 N|         237|         140|           1|        5.1|  1.0|    0.5|       0.0|         0.0|                  1.0|        10.1|                 2.5|        0.0| Manhattan|Upper East Side S...|    Yellow Zone| Manhattan|     Lenox Hill East|    Yellow Zone|\n",
      "|       2| 2024-07-01 00:43:34|  2024-07-01 01:01:43|              1|         9.99|         1|                 N|         138|         244|           1|       40.1|  6.0|    0.5|       0.0|        6.94|                  1.0|       56.29|                 0.0|       1.75|    Queens|   LaGuardia Airport|       Airports| Manhattan|Washington Height...|      Boro Zone|\n",
      "|       2| 2024-07-01 00:52:25|  2024-07-01 01:17:53|              2|        11.09|         1|                 N|         132|          91|           2|       45.7|  1.0|    0.5|       0.0|         0.0|                  1.0|       49.95|                 0.0|       1.75|    Queens|         JFK Airport|       Airports|  Brooklyn|           Flatlands|      Boro Zone|\n",
      "|       1| 2024-07-01 00:51:18|  2024-07-01 01:01:42|              1|          3.5|         1|                 N|         138|         179|           1|       15.6| 7.75|    0.5|      4.95|         0.0|                  1.0|        29.8|                 0.0|       1.75|    Queens|   LaGuardia Airport|       Airports|    Queens|         Old Astoria|      Boro Zone|\n",
      "|       1| 2024-07-01 00:33:24|  2024-07-01 00:54:44|              1|          3.3|         1|                 N|         152|         168|           3|       20.5|  1.0|    0.5|       0.0|         0.0|                  1.0|        23.0|                 0.0|        0.0| Manhattan|      Manhattanville|      Boro Zone|     Bronx|Mott Haven/Port M...|      Boro Zone|\n",
      "|       1| 2024-07-01 00:48:53|  2024-07-01 01:22:13|              0|          6.2|         1|                 N|         249|         151|           1|       35.2|  3.5|    0.5|       5.0|         0.0|                  1.0|        45.2|                 2.5|        0.0| Manhattan|        West Village|    Yellow Zone| Manhattan|    Manhattan Valley|    Yellow Zone|\n",
      "|       1| 2024-07-01 00:56:52|  2024-07-01 01:12:59|              1|          3.3|         1|                 N|         186|         238|           2|       15.6|  3.5|    0.5|       0.0|         0.0|                  1.0|        20.6|                 2.5|        0.0| Manhattan|Penn Station/Madi...|    Yellow Zone| Manhattan|Upper West Side N...|    Yellow Zone|\n",
      "|       2| 2024-07-01 00:50:54|  2024-07-01 00:55:43|              1|         0.77|         1|                 N|         162|         230|           1|        6.5|  1.0|    0.5|       2.3|         0.0|                  1.0|        13.8|                 2.5|        0.0| Manhattan|        Midtown East|    Yellow Zone| Manhattan|Times Sq/Theatre ...|    Yellow Zone|\n",
      "|       2| 2024-07-01 00:25:44|  2024-07-01 00:25:45|              1|          0.0|         5|                 N|         264|         264|           1|       13.0|  0.0|    0.5|       0.0|         0.0|                  1.0|        14.5|                 0.0|        0.0|   Unknown|                 N/A|            N/A|   Unknown|                 N/A|            N/A|\n",
      "+--------+--------------------+---------------------+---------------+-------------+----------+------------------+------------+------------+------------+-----------+-----+-------+----------+------------+---------------------+------------+--------------------+-----------+----------+--------------------+---------------+----------+--------------------+---------------+\n",
      "only showing top 20 rows\n",
      "\n"
     ]
    }
   ],
   "source": [
    "df = df.join(zones_df, df.DOLocationID == zones_df.LocationID, \"inner\")\n",
    "\n",
    "df = df \\\n",
    "    .withColumnRenamed(\"Borough\", \"DO_Borough\") \\\n",
    "    .withColumnRenamed(\"Zone\", \"DO_Zone\") \\\n",
    "    .withColumnRenamed(\"service_zone\", \"DO_service_zone\")\n",
    "\n",
    "df = df.drop(\"LocationID\")\n",
    "\n",
    "df.show()"
   ]
  }
 ],
 "metadata": {
  "kernelspec": {
   "display_name": "base",
   "language": "python",
   "name": "python3"
  },
  "language_info": {
   "codemirror_mode": {
    "name": "ipython",
    "version": 3
   },
   "file_extension": ".py",
   "mimetype": "text/x-python",
   "name": "python",
   "nbconvert_exporter": "python",
   "pygments_lexer": "ipython3",
   "version": "3.11.5"
  }
 },
 "nbformat": 4,
 "nbformat_minor": 2
}
