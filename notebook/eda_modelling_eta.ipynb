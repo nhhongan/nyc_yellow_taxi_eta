{
 "cells": [
  {
   "cell_type": "code",
   "execution_count": 34,
   "metadata": {},
   "outputs": [],
   "source": [
    "import pandas as pd\n",
    "import numpy as np\n",
    "import matplotlib.pyplot as plt\n",
    "import seaborn as sns\n",
    "from pyspark.sql import SparkSession\n",
    "import os\n",
    "plt.style.use(\"fivethirtyeight\")\n",
    "import warnings\n",
    "warnings.filterwarnings(\"ignore\")"
   ]
  },
  {
   "cell_type": "markdown",
   "metadata": {},
   "source": [
    "# Preparing Data"
   ]
  },
  {
   "cell_type": "markdown",
   "metadata": {},
   "source": [
    "## Create SparkSession"
   ]
  },
  {
   "cell_type": "code",
   "execution_count": 35,
   "metadata": {},
   "outputs": [],
   "source": [
    "spark = SparkSession.builder.appName(\"NYC_ETA\").getOrCreate()"
   ]
  },
  {
   "cell_type": "markdown",
   "metadata": {},
   "source": [
    "## Read Parquet Files"
   ]
  },
  {
   "cell_type": "code",
   "execution_count": 36,
   "metadata": {},
   "outputs": [
    {
     "name": "stdout",
     "output_type": "stream",
     "text": [
      "+--------+--------------------+---------------------+---------------+-------------+----------+------------------+------------+------------+------------+-----------+-----+-------+----------+------------+---------------------+------------+--------------------+-----------+\n",
      "|VendorID|tpep_pickup_datetime|tpep_dropoff_datetime|passenger_count|trip_distance|RatecodeID|store_and_fwd_flag|PULocationID|DOLocationID|payment_type|fare_amount|extra|mta_tax|tip_amount|tolls_amount|improvement_surcharge|total_amount|congestion_surcharge|Airport_fee|\n",
      "+--------+--------------------+---------------------+---------------+-------------+----------+------------------+------------+------------+------------+-----------+-----+-------+----------+------------+---------------------+------------+--------------------+-----------+\n",
      "|       1| 2024-07-01 00:34:56|  2024-07-01 00:46:49|              1|          3.2|         1|                 N|         140|          79|           1|       15.6|  3.5|    0.5|       3.5|         0.0|                  1.0|        24.1|                 2.5|        0.0|\n",
      "|       2| 2024-06-30 23:48:58|  2024-07-01 00:28:04|              1|        19.48|         2|                 N|         132|         113|           2|       70.0|  0.0|    0.5|       0.0|         0.0|                  1.0|       75.75|                 2.5|       1.75|\n",
      "|       2| 2024-07-01 00:23:18|  2024-07-01 00:29:51|              1|         1.18|         1|                 N|         237|         145|           1|        8.6|  1.0|    0.5|      2.72|         0.0|                  1.0|       16.32|                 2.5|        0.0|\n",
      "|       1| 2024-07-01 00:10:33|  2024-07-01 00:27:31|              0|          9.1|         1|                 N|         138|         164|           1|       36.6|10.25|    0.5|     12.05|         0.0|                  1.0|        60.4|                 2.5|       1.75|\n",
      "|       1| 2024-07-01 00:07:55|  2024-07-01 00:34:34|              1|         17.7|         2|                 N|         132|         263|           1|       70.0| 1.75|    0.5|      10.0|        6.94|                  1.0|       90.19|                 0.0|       1.75|\n",
      "+--------+--------------------+---------------------+---------------+-------------+----------+------------------+------------+------------+------------+-----------+-----+-------+----------+------------+---------------------+------------+--------------------+-----------+\n",
      "only showing top 5 rows\n",
      "\n"
     ]
    }
   ],
   "source": [
    "# Merge all data parquet files\n",
    "\n",
    "jul_data_path = \"../data/yellow_tripdata_2024-07.parquet\"\n",
    "aug_data_path = \"../data/yellow_tripdata_2024-08.parquet\"\n",
    "sep_data_path = \"../data/yellow_tripdata_2024-09.parquet\"\n",
    "df_jul = spark.read.parquet(jul_data_path)\n",
    "df_aug = spark.read.parquet(aug_data_path)\n",
    "df_sep = spark.read.parquet(sep_data_path)\n",
    "\n",
    "df = df_jul.union(df_aug).union(df_sep)\n",
    "\n",
    "output_path = \"../data/merged_yellow_tripdata_2024_Q3.parquet\"\n",
    "# df.write.parquet(output_path)\n",
    "\n",
    "df.show(5)\n"
   ]
  },
  {
   "cell_type": "code",
   "execution_count": 37,
   "metadata": {},
   "outputs": [
    {
     "name": "stdout",
     "output_type": "stream",
     "text": [
      "root\n",
      " |-- VendorID: integer (nullable = true)\n",
      " |-- tpep_pickup_datetime: timestamp_ntz (nullable = true)\n",
      " |-- tpep_dropoff_datetime: timestamp_ntz (nullable = true)\n",
      " |-- passenger_count: long (nullable = true)\n",
      " |-- trip_distance: double (nullable = true)\n",
      " |-- RatecodeID: long (nullable = true)\n",
      " |-- store_and_fwd_flag: string (nullable = true)\n",
      " |-- PULocationID: integer (nullable = true)\n",
      " |-- DOLocationID: integer (nullable = true)\n",
      " |-- payment_type: long (nullable = true)\n",
      " |-- fare_amount: double (nullable = true)\n",
      " |-- extra: double (nullable = true)\n",
      " |-- mta_tax: double (nullable = true)\n",
      " |-- tip_amount: double (nullable = true)\n",
      " |-- tolls_amount: double (nullable = true)\n",
      " |-- improvement_surcharge: double (nullable = true)\n",
      " |-- total_amount: double (nullable = true)\n",
      " |-- congestion_surcharge: double (nullable = true)\n",
      " |-- Airport_fee: double (nullable = true)\n",
      "\n"
     ]
    }
   ],
   "source": [
    "df.printSchema()"
   ]
  },
  {
   "cell_type": "markdown",
   "metadata": {},
   "source": [
    "![data_schema.png](./data_schema.png)"
   ]
  },
  {
   "cell_type": "markdown",
   "metadata": {},
   "source": [
    "### Merge Taxi Zone Data"
   ]
  },
  {
   "cell_type": "code",
   "execution_count": 38,
   "metadata": {},
   "outputs": [
    {
     "name": "stdout",
     "output_type": "stream",
     "text": [
      "+----------+-------------+--------------------+------------+\n",
      "|LocationID|      Borough|                Zone|service_zone|\n",
      "+----------+-------------+--------------------+------------+\n",
      "|         1|          EWR|      Newark Airport|         EWR|\n",
      "|         2|       Queens|         Jamaica Bay|   Boro Zone|\n",
      "|         3|        Bronx|Allerton/Pelham G...|   Boro Zone|\n",
      "|         4|    Manhattan|       Alphabet City| Yellow Zone|\n",
      "|         5|Staten Island|       Arden Heights|   Boro Zone|\n",
      "+----------+-------------+--------------------+------------+\n",
      "only showing top 5 rows\n",
      "\n"
     ]
    }
   ],
   "source": [
    "zones_df = spark.read.csv(\"../data/taxi_zone_lookup.csv\", header=True, inferSchema=True)\n",
    "zones_df.show(5)"
   ]
  },
  {
   "cell_type": "markdown",
   "metadata": {},
   "source": [
    "#### Merge **zones_df** with **df** by **Pick Up Location**"
   ]
  },
  {
   "cell_type": "code",
   "execution_count": 39,
   "metadata": {},
   "outputs": [
    {
     "name": "stdout",
     "output_type": "stream",
     "text": [
      "+--------+--------------------+---------------------+---------------+-------------+----------+------------------+------------+------------+------------+-----------+-----+-------+----------+------------+---------------------+------------+--------------------+-----------+----------+--------------------+---------------+\n",
      "|VendorID|tpep_pickup_datetime|tpep_dropoff_datetime|passenger_count|trip_distance|RatecodeID|store_and_fwd_flag|PULocationID|DOLocationID|payment_type|fare_amount|extra|mta_tax|tip_amount|tolls_amount|improvement_surcharge|total_amount|congestion_surcharge|Airport_fee|PU_Borough|             PU_Zone|PU_service_zone|\n",
      "+--------+--------------------+---------------------+---------------+-------------+----------+------------------+------------+------------+------------+-----------+-----+-------+----------+------------+---------------------+------------+--------------------+-----------+----------+--------------------+---------------+\n",
      "|       1| 2024-07-01 00:34:56|  2024-07-01 00:46:49|              1|          3.2|         1|                 N|         140|          79|           1|       15.6|  3.5|    0.5|       3.5|         0.0|                  1.0|        24.1|                 2.5|        0.0| Manhattan|     Lenox Hill East|    Yellow Zone|\n",
      "|       2| 2024-06-30 23:48:58|  2024-07-01 00:28:04|              1|        19.48|         2|                 N|         132|         113|           2|       70.0|  0.0|    0.5|       0.0|         0.0|                  1.0|       75.75|                 2.5|       1.75|    Queens|         JFK Airport|       Airports|\n",
      "|       2| 2024-07-01 00:23:18|  2024-07-01 00:29:51|              1|         1.18|         1|                 N|         237|         145|           1|        8.6|  1.0|    0.5|      2.72|         0.0|                  1.0|       16.32|                 2.5|        0.0| Manhattan|Upper East Side S...|    Yellow Zone|\n",
      "|       1| 2024-07-01 00:10:33|  2024-07-01 00:27:31|              0|          9.1|         1|                 N|         138|         164|           1|       36.6|10.25|    0.5|     12.05|         0.0|                  1.0|        60.4|                 2.5|       1.75|    Queens|   LaGuardia Airport|       Airports|\n",
      "|       1| 2024-07-01 00:07:55|  2024-07-01 00:34:34|              1|         17.7|         2|                 N|         132|         263|           1|       70.0| 1.75|    0.5|      10.0|        6.94|                  1.0|       90.19|                 0.0|       1.75|    Queens|         JFK Airport|       Airports|\n",
      "+--------+--------------------+---------------------+---------------+-------------+----------+------------------+------------+------------+------------+-----------+-----+-------+----------+------------+---------------------+------------+--------------------+-----------+----------+--------------------+---------------+\n",
      "only showing top 5 rows\n",
      "\n"
     ]
    }
   ],
   "source": [
    "df = df.join(zones_df, df.PULocationID == zones_df.LocationID, \"inner\")\n",
    "\n",
    "df = df \\\n",
    "    .withColumnRenamed(\"Borough\", \"PU_Borough\") \\\n",
    "    .withColumnRenamed(\"Zone\", \"PU_Zone\") \\\n",
    "    .withColumnRenamed(\"service_zone\", \"PU_service_zone\")\n",
    "\n",
    "df = df.drop(\"LocationID\")\n",
    "\n",
    "df.show(5)"
   ]
  },
  {
   "cell_type": "markdown",
   "metadata": {},
   "source": [
    "#### Merge **zones_df** with **df** by **Drop Off Location**"
   ]
  },
  {
   "cell_type": "code",
   "execution_count": 40,
   "metadata": {},
   "outputs": [
    {
     "name": "stdout",
     "output_type": "stream",
     "text": [
      "+--------+--------------------+---------------------+---------------+-------------+----------+------------------+------------+------------+------------+-----------+-----+-------+----------+------------+---------------------+------------+--------------------+-----------+----------+--------------------+---------------+----------+--------------------+---------------+\n",
      "|VendorID|tpep_pickup_datetime|tpep_dropoff_datetime|passenger_count|trip_distance|RatecodeID|store_and_fwd_flag|PULocationID|DOLocationID|payment_type|fare_amount|extra|mta_tax|tip_amount|tolls_amount|improvement_surcharge|total_amount|congestion_surcharge|Airport_fee|PU_Borough|             PU_Zone|PU_service_zone|DO_Borough|             DO_Zone|DO_service_zone|\n",
      "+--------+--------------------+---------------------+---------------+-------------+----------+------------------+------------+------------+------------+-----------+-----+-------+----------+------------+---------------------+------------+--------------------+-----------+----------+--------------------+---------------+----------+--------------------+---------------+\n",
      "|       1| 2024-07-01 00:34:56|  2024-07-01 00:46:49|              1|          3.2|         1|                 N|         140|          79|           1|       15.6|  3.5|    0.5|       3.5|         0.0|                  1.0|        24.1|                 2.5|        0.0| Manhattan|     Lenox Hill East|    Yellow Zone| Manhattan|        East Village|    Yellow Zone|\n",
      "|       2| 2024-06-30 23:48:58|  2024-07-01 00:28:04|              1|        19.48|         2|                 N|         132|         113|           2|       70.0|  0.0|    0.5|       0.0|         0.0|                  1.0|       75.75|                 2.5|       1.75|    Queens|         JFK Airport|       Airports| Manhattan|Greenwich Village...|    Yellow Zone|\n",
      "|       2| 2024-07-01 00:23:18|  2024-07-01 00:29:51|              1|         1.18|         1|                 N|         237|         145|           1|        8.6|  1.0|    0.5|      2.72|         0.0|                  1.0|       16.32|                 2.5|        0.0| Manhattan|Upper East Side S...|    Yellow Zone|    Queens|Long Island City/...|      Boro Zone|\n",
      "|       1| 2024-07-01 00:10:33|  2024-07-01 00:27:31|              0|          9.1|         1|                 N|         138|         164|           1|       36.6|10.25|    0.5|     12.05|         0.0|                  1.0|        60.4|                 2.5|       1.75|    Queens|   LaGuardia Airport|       Airports| Manhattan|       Midtown South|    Yellow Zone|\n",
      "|       1| 2024-07-01 00:07:55|  2024-07-01 00:34:34|              1|         17.7|         2|                 N|         132|         263|           1|       70.0| 1.75|    0.5|      10.0|        6.94|                  1.0|       90.19|                 0.0|       1.75|    Queens|         JFK Airport|       Airports| Manhattan|      Yorkville West|    Yellow Zone|\n",
      "+--------+--------------------+---------------------+---------------+-------------+----------+------------------+------------+------------+------------+-----------+-----+-------+----------+------------+---------------------+------------+--------------------+-----------+----------+--------------------+---------------+----------+--------------------+---------------+\n",
      "only showing top 5 rows\n",
      "\n"
     ]
    }
   ],
   "source": [
    "df = df.join(zones_df, df.DOLocationID == zones_df.LocationID, \"inner\")\n",
    "\n",
    "df = df \\\n",
    "    .withColumnRenamed(\"Borough\", \"DO_Borough\") \\\n",
    "    .withColumnRenamed(\"Zone\", \"DO_Zone\") \\\n",
    "    .withColumnRenamed(\"service_zone\", \"DO_service_zone\")\n",
    "\n",
    "df = df.drop(\"LocationID\")\n",
    "\n",
    "df.show(5)"
   ]
  },
  {
   "cell_type": "markdown",
   "metadata": {},
   "source": [
    "#### Drop some irrelevant columns which has no or little impact in estimate time arrival"
   ]
  },
  {
   "cell_type": "code",
   "execution_count": 41,
   "metadata": {},
   "outputs": [
    {
     "name": "stdout",
     "output_type": "stream",
     "text": [
      "+--------+--------------------+---------------------+---------------+-------------+----------+------------+------------+--------------------+-----------+----------+--------------------+----------+--------------------+\n",
      "|VendorID|tpep_pickup_datetime|tpep_dropoff_datetime|passenger_count|trip_distance|RatecodeID|PULocationID|DOLocationID|congestion_surcharge|Airport_fee|PU_Borough|             PU_Zone|DO_Borough|             DO_Zone|\n",
      "+--------+--------------------+---------------------+---------------+-------------+----------+------------+------------+--------------------+-----------+----------+--------------------+----------+--------------------+\n",
      "|       1| 2024-07-01 00:34:56|  2024-07-01 00:46:49|              1|          3.2|         1|         140|          79|                 2.5|        0.0| Manhattan|     Lenox Hill East| Manhattan|        East Village|\n",
      "|       2| 2024-06-30 23:48:58|  2024-07-01 00:28:04|              1|        19.48|         2|         132|         113|                 2.5|       1.75|    Queens|         JFK Airport| Manhattan|Greenwich Village...|\n",
      "|       2| 2024-07-01 00:23:18|  2024-07-01 00:29:51|              1|         1.18|         1|         237|         145|                 2.5|        0.0| Manhattan|Upper East Side S...|    Queens|Long Island City/...|\n",
      "|       1| 2024-07-01 00:10:33|  2024-07-01 00:27:31|              0|          9.1|         1|         138|         164|                 2.5|       1.75|    Queens|   LaGuardia Airport| Manhattan|       Midtown South|\n",
      "|       1| 2024-07-01 00:07:55|  2024-07-01 00:34:34|              1|         17.7|         2|         132|         263|                 0.0|       1.75|    Queens|         JFK Airport| Manhattan|      Yorkville West|\n",
      "+--------+--------------------+---------------------+---------------+-------------+----------+------------+------------+--------------------+-----------+----------+--------------------+----------+--------------------+\n",
      "only showing top 5 rows\n",
      "\n"
     ]
    }
   ],
   "source": [
    "columns_to_drop = [\n",
    "    \"store_and_fwd_flag\", \n",
    "    \"payment_type\", \n",
    "    \"fare_amount\", \n",
    "    \"extra\", \n",
    "    \"mta_tax\", \n",
    "    \"tip_amount\", \n",
    "    \"tolls_amount\", \n",
    "    \"improvement_surcharge\", \n",
    "    \"total_amount\", \n",
    "    \"PU_service_zone\", \n",
    "    \"DO_service_zone\"\n",
    "]\n",
    "\n",
    "df = df.drop(*columns_to_drop)\n",
    "\n",
    "df.show(5)\n"
   ]
  },
  {
   "cell_type": "markdown",
   "metadata": {},
   "source": [
    "# Preprocessing Data"
   ]
  },
  {
   "cell_type": "markdown",
   "metadata": {},
   "source": [
    "## Data Cleaning"
   ]
  },
  {
   "cell_type": "markdown",
   "metadata": {},
   "source": [
    "#### trip_distance\n"
   ]
  },
  {
   "cell_type": "code",
   "execution_count": 42,
   "metadata": {},
   "outputs": [
    {
     "data": {
      "text/plain": [
       "Row(mean=5.296567671395089, stddev=433.93545298571394)"
      ]
     },
     "execution_count": 42,
     "metadata": {},
     "output_type": "execute_result"
    }
   ],
   "source": [
    "from pyspark.sql.functions import col, mean as spark_mean, stddev\n",
    "\n",
    "# Calculate mean and standard deviation\n",
    "trip_dis_stats = df.select(\n",
    "    spark_mean(col(\"trip_distance\")).alias(\"mean\"),\n",
    "    stddev(col(\"trip_distance\")).alias(\"stddev\")\n",
    ").collect()[0]\n",
    "trip_dis_stats"
   ]
  },
  {
   "cell_type": "code",
   "execution_count": 43,
   "metadata": {},
   "outputs": [
    {
     "name": "stdout",
     "output_type": "stream",
     "text": [
      "Mean for Trip Duration is: 5.296567671395089\n",
      "Standard Deviation for Trip Duration is: 433.93545298571394\n"
     ]
    },
    {
     "name": "stderr",
     "output_type": "stream",
     "text": [
      "[Stage 82:=====================================================>  (23 + 1) / 24]\r"
     ]
    },
    {
     "name": "stdout",
     "output_type": "stream",
     "text": [
      "+-------+------------------+------------------+------------------+------------------+------------------+-----------------+--------------------+-------------------+----------+--------------------+----------+--------------------+\n",
      "|summary|          VendorID|   passenger_count|     trip_distance|        RatecodeID|      PULocationID|     DOLocationID|congestion_surcharge|        Airport_fee|PU_Borough|             PU_Zone|DO_Borough|             DO_Zone|\n",
      "+-------+------------------+------------------+------------------+------------------+------------------+-----------------+--------------------+-------------------+----------+--------------------+----------+--------------------+\n",
      "|  count|           7463340|           6606139|           7463340|           6606139|           7463340|          7463340|             6606139|            6606139|   7463340|             7463340|   7463340|             7463340|\n",
      "|   mean| 1.770373452100534|1.3486086199518357|4.4061404505223205|2.7390846604953363|160.56997497099155|159.8993508268416|   2.195502168513257|0.21249586937241255|      NULL|                NULL|      NULL|                NULL|\n",
      "| stddev|0.4209270667253398|0.8200172737774424| 5.064734503038349| 12.57545619330992|63.986453297705225| 70.9863946133112|  0.9020592021547533| 0.5915616507486174|      NULL|                NULL|      NULL|                NULL|\n",
      "|    min|                 1|                 0|               1.0|                 1|                 1|                1|                -2.5|              -1.75|     Bronx|Allerton/Pelham G...|     Bronx|Allerton/Pelham G...|\n",
      "|    max|                 6|                 9|            818.59|                99|               265|              265|                 2.5|               1.75|   Unknown|      Yorkville West|   Unknown|      Yorkville West|\n",
      "+-------+------------------+------------------+------------------+------------------+------------------+-----------------+--------------------+-------------------+----------+--------------------+----------+--------------------+\n",
      "\n"
     ]
    },
    {
     "name": "stderr",
     "output_type": "stream",
     "text": [
      "                                                                                \r"
     ]
    }
   ],
   "source": [
    "trip_dis_mean = trip_dis_stats[\"mean\"]\n",
    "trip_dis_stddev = trip_dis_stats[\"stddev\"]\n",
    "\n",
    "print(f\"Mean for Trip Duration is: {trip_dis_mean}\")\n",
    "print(f\"Standard Deviation for Trip Duration is: {trip_dis_stddev}\")\n",
    "\n",
    "# Filter rows within 2 standard deviations\n",
    "df = df.filter(\n",
    "    (col(\"trip_distance\") >= trip_dis_mean - 2 * trip_dis_stddev) &\n",
    "    (col(\"trip_distance\") <= trip_dis_mean + 2 * trip_dis_stddev) &\n",
    "    (col(\"trip_distance\") >= 1)\n",
    ")\n",
    "\n",
    "df.describe().show()"
   ]
  },
  {
   "cell_type": "markdown",
   "metadata": {},
   "source": [
    "#### passenger_count"
   ]
  },
  {
   "cell_type": "markdown",
   "metadata": {},
   "source": [
    "Filter rows where `passenger_count` is 7, 8, 9 or 0 because it is uncommon in NYC taxi data\n",
    "> *(most taxis accommodate up to 6 passengers)*"
   ]
  },
  {
   "cell_type": "code",
   "execution_count": 45,
   "metadata": {},
   "outputs": [],
   "source": [
    "from pyspark.sql.functions import col\n",
    "df = df.filter(~(col(\"passenger_count\").isin([7, 8, 9, 0])))"
   ]
  },
  {
   "cell_type": "markdown",
   "metadata": {},
   "source": [
    "##### airport_fee to enter_airport"
   ]
  },
  {
   "cell_type": "code",
   "execution_count": 48,
   "metadata": {},
   "outputs": [
    {
     "name": "stdout",
     "output_type": "stream",
     "text": [
      "+-------------+\n",
      "|enter_airport|\n",
      "+-------------+\n",
      "|            0|\n",
      "|            1|\n",
      "|            0|\n",
      "|            1|\n",
      "|            0|\n",
      "+-------------+\n",
      "only showing top 5 rows\n",
      "\n"
     ]
    }
   ],
   "source": [
    "from pyspark.sql.functions import when\n",
    "\n",
    "df = df.withColumn(\n",
    "    \"enter_airport\", \n",
    "    when(col(\"airport_fee\") > 0, \"1\").otherwise(\"0\")\n",
    ")\n",
    "df.select(\"enter_airport\").show(5)\n"
   ]
  },
  {
   "cell_type": "code",
   "execution_count": 49,
   "metadata": {},
   "outputs": [],
   "source": [
    "df = df.drop(\"airport_fee\")"
   ]
  },
  {
   "cell_type": "markdown",
   "metadata": {},
   "source": [
    "##### pick_up and drop_off datetime"
   ]
  },
  {
   "cell_type": "code",
   "execution_count": 50,
   "metadata": {},
   "outputs": [
    {
     "name": "stdout",
     "output_type": "stream",
     "text": [
      "+--------------------+---------------------+\n",
      "|tpep_pickup_datetime|tpep_dropoff_datetime|\n",
      "+--------------------+---------------------+\n",
      "|2024-07-01 07:34:56 |2024-07-01 07:46:49  |\n",
      "|2024-07-01 06:48:58 |2024-07-01 07:28:04  |\n",
      "|2024-07-01 07:23:18 |2024-07-01 07:29:51  |\n",
      "|2024-07-01 07:07:55 |2024-07-01 07:34:34  |\n",
      "|2024-07-01 07:19:42 |2024-07-01 07:32:13  |\n",
      "|2024-07-01 07:34:04 |2024-07-01 07:43:13  |\n",
      "|2024-07-01 07:59:52 |2024-07-01 08:05:27  |\n",
      "|2024-07-01 07:13:50 |2024-07-01 07:28:03  |\n",
      "|2024-07-01 07:43:34 |2024-07-01 08:01:43  |\n",
      "|2024-07-01 07:52:25 |2024-07-01 08:17:53  |\n",
      "|2024-07-01 07:51:18 |2024-07-01 08:01:42  |\n",
      "|2024-07-01 07:33:24 |2024-07-01 07:54:44  |\n",
      "|2024-07-01 07:56:52 |2024-07-01 08:12:59  |\n",
      "|2024-07-01 07:36:26 |2024-07-01 07:50:42  |\n",
      "|2024-07-01 07:59:32 |2024-07-01 08:07:58  |\n",
      "|2024-07-01 07:16:06 |2024-07-01 07:45:42  |\n",
      "|2024-07-01 07:56:04 |2024-07-01 08:13:10  |\n",
      "|2024-07-01 07:18:04 |2024-07-01 07:49:00  |\n",
      "|2024-07-01 07:09:49 |2024-07-01 07:36:44  |\n",
      "|2024-07-01 07:22:26 |2024-07-01 07:35:58  |\n",
      "+--------------------+---------------------+\n",
      "only showing top 20 rows\n",
      "\n"
     ]
    }
   ],
   "source": [
    "from pyspark.sql.functions import to_timestamp\n",
    "\n",
    "df = df.withColumn(\"tpep_pickup_datetime\", to_timestamp(\"tpep_pickup_datetime\", \"yyyy-MM-dd HH:mm:ss\")) \\\n",
    "       .withColumn(\"tpep_dropoff_datetime\", to_timestamp(\"tpep_dropoff_datetime\", \"yyyy-MM-dd HH:mm:ss\"))\n",
    "\n",
    "df.select(\"tpep_pickup_datetime\", \"tpep_dropoff_datetime\").show(truncate=False)\n"
   ]
  },
  {
   "cell_type": "markdown",
   "metadata": {},
   "source": [
    "`tpep_pickup_datetime`"
   ]
  },
  {
   "cell_type": "code",
   "execution_count": 80,
   "metadata": {},
   "outputs": [],
   "source": [
    "from pyspark.sql import functions as F\n",
    "from pyspark.sql.types import IntegerType\n",
    "\n",
    "df = df.withColumn(\"pickup_date\", F.to_date(F.col(\"tpep_pickup_datetime\")))\n",
    "df = df.withColumn(\"pickup_hour\", F.hour(F.col(\"tpep_pickup_datetime\")))\n",
    "df = df.withColumn(\"pickup_minute\", F.minute(F.col(\"tpep_pickup_datetime\")))\n",
    "df = df.withColumn(\"pickup_second\", F.second(F.col(\"tpep_pickup_datetime\")))\n",
    "df = df.withColumn(\"pickup_weekday\", F.dayofweek(F.col(\"tpep_pickup_datetime\")) - 1)  # Adjust to 0-based (Sunday: 0, Monday: 1,...)\n",
    "df = df.withColumn(\"pickup_month\", F.month(F.col(\"tpep_pickup_datetime\")))\n",
    "df = df.withColumn(\"pickup_day\", F.day(F.col(\"tpep_pickup_datetime\")))\n",
    "\n",
    "\n",
    "# Weekly hour feature (captures patterns based on the time of day and the day of the week)\n",
    "df = df.withColumn(\n",
    "    \"pickup_week_hour\", F.col(\"pickup_weekday\") * 24 + F.col(\"pickup_hour\")  # 0 (Sunday midnight) to 167 (Saturday 11:00 PM)\n",
    ")\n",
    "\n",
    "df = df.withColumn(\n",
    "    \"pickup_time\", \n",
    "    F.concat(\n",
    "        F.lpad(F.col(\"pickup_hour\"), 2, \"0\"), F.lit(\":\"),\n",
    "        F.lpad(F.col(\"pickup_minute\"), 2, \"0\"), F.lit(\":\"),\n",
    "        F.lpad(F.col(\"pickup_second\"), 2, \"0\")\n",
    "    )\n",
    ")"
   ]
  },
  {
   "cell_type": "markdown",
   "metadata": {},
   "source": [
    "`tpep_dropoff_datetime`"
   ]
  },
  {
   "cell_type": "code",
   "execution_count": 81,
   "metadata": {},
   "outputs": [
    {
     "name": "stdout",
     "output_type": "stream",
     "text": [
      "+-----------+-----------+------------+----------+--------------+-----------+-------------+-------------+----------------+------------+------------+-------------+-----------+------------+--------------+--------------+\n",
      "|pickup_date|pickup_time|pickup_month|pickup_day|pickup_weekday|pickup_hour|pickup_minute|pickup_second|pickup_week_hour|dropoff_date|dropoff_time|dropoff_month|dropoff_day|dropoff_hour|dropoff_minute|dropoff_second|\n",
      "+-----------+-----------+------------+----------+--------------+-----------+-------------+-------------+----------------+------------+------------+-------------+-----------+------------+--------------+--------------+\n",
      "|2024-07-01 |07:34:56   |7           |1         |1             |7          |34           |56           |31              |2024-07-01  |07:46:49    |7            |1          |7           |46            |49            |\n",
      "|2024-07-01 |06:48:58   |7           |1         |1             |6          |48           |58           |30              |2024-07-01  |07:28:04    |7            |1          |7           |28            |4             |\n",
      "|2024-07-01 |07:23:18   |7           |1         |1             |7          |23           |18           |31              |2024-07-01  |07:29:51    |7            |1          |7           |29            |51            |\n",
      "|2024-07-01 |07:07:55   |7           |1         |1             |7          |7            |55           |31              |2024-07-01  |07:34:34    |7            |1          |7           |34            |34            |\n",
      "|2024-07-01 |07:19:42   |7           |1         |1             |7          |19           |42           |31              |2024-07-01  |07:32:13    |7            |1          |7           |32            |13            |\n",
      "|2024-07-01 |07:34:04   |7           |1         |1             |7          |34           |4            |31              |2024-07-01  |07:43:13    |7            |1          |7           |43            |13            |\n",
      "|2024-07-01 |07:59:52   |7           |1         |1             |7          |59           |52           |31              |2024-07-01  |08:05:27    |7            |1          |8           |5             |27            |\n",
      "|2024-07-01 |07:13:50   |7           |1         |1             |7          |13           |50           |31              |2024-07-01  |07:28:03    |7            |1          |7           |28            |3             |\n",
      "|2024-07-01 |07:43:34   |7           |1         |1             |7          |43           |34           |31              |2024-07-01  |08:01:43    |7            |1          |8           |1             |43            |\n",
      "|2024-07-01 |07:52:25   |7           |1         |1             |7          |52           |25           |31              |2024-07-01  |08:17:53    |7            |1          |8           |17            |53            |\n",
      "|2024-07-01 |07:51:18   |7           |1         |1             |7          |51           |18           |31              |2024-07-01  |08:01:42    |7            |1          |8           |1             |42            |\n",
      "|2024-07-01 |07:33:24   |7           |1         |1             |7          |33           |24           |31              |2024-07-01  |07:54:44    |7            |1          |7           |54            |44            |\n",
      "|2024-07-01 |07:56:52   |7           |1         |1             |7          |56           |52           |31              |2024-07-01  |08:12:59    |7            |1          |8           |12            |59            |\n",
      "|2024-07-01 |07:36:26   |7           |1         |1             |7          |36           |26           |31              |2024-07-01  |07:50:42    |7            |1          |7           |50            |42            |\n",
      "|2024-07-01 |07:59:32   |7           |1         |1             |7          |59           |32           |31              |2024-07-01  |08:07:58    |7            |1          |8           |7             |58            |\n",
      "|2024-07-01 |07:16:06   |7           |1         |1             |7          |16           |6            |31              |2024-07-01  |07:45:42    |7            |1          |7           |45            |42            |\n",
      "|2024-07-01 |07:56:04   |7           |1         |1             |7          |56           |4            |31              |2024-07-01  |08:13:10    |7            |1          |8           |13            |10            |\n",
      "|2024-07-01 |07:18:04   |7           |1         |1             |7          |18           |4            |31              |2024-07-01  |07:49:00    |7            |1          |7           |49            |0             |\n",
      "|2024-07-01 |07:09:49   |7           |1         |1             |7          |9            |49           |31              |2024-07-01  |07:36:44    |7            |1          |7           |36            |44            |\n",
      "|2024-07-01 |07:22:26   |7           |1         |1             |7          |22           |26           |31              |2024-07-01  |07:35:58    |7            |1          |7           |35            |58            |\n",
      "+-----------+-----------+------------+----------+--------------+-----------+-------------+-------------+----------------+------------+------------+-------------+-----------+------------+--------------+--------------+\n",
      "only showing top 20 rows\n",
      "\n"
     ]
    }
   ],
   "source": [
    "df = df.withColumn(\"dropoff_date\", F.to_date(F.col(\"tpep_dropoff_datetime\")))\n",
    "df = df.withColumn(\"dropoff_hour\", F.hour(F.col(\"tpep_dropoff_datetime\")))\n",
    "df = df.withColumn(\"dropoff_minute\", F.minute(F.col(\"tpep_dropoff_datetime\")))\n",
    "df = df.withColumn(\"dropoff_second\", F.second(F.col(\"tpep_dropoff_datetime\")))\n",
    "df = df.withColumn(\"dropoff_weekday\", F.dayofweek(F.col(\"tpep_dropoff_datetime\")) - 1)  # Adjust to 0-based (Sunday: 0, Monday: 1,...)\n",
    "df = df.withColumn(\"dropoff_month\", F.month(F.col(\"tpep_dropoff_datetime\")))\n",
    "df = df.withColumn(\"dropoff_day\", F.day(F.col(\"tpep_dropoff_datetime\")))\n",
    "\n",
    "df = df.withColumn(\n",
    "    \"dropoff_time\", \n",
    "    F.concat(\n",
    "        F.lpad(F.col(\"dropoff_hour\"), 2, \"0\"), F.lit(\":\"),\n",
    "        F.lpad(F.col(\"dropoff_minute\"), 2, \"0\"), F.lit(\":\"),\n",
    "        F.lpad(F.col(\"dropoff_second\"), 2, \"0\")\n",
    "    )\n",
    ")\n",
    "\n",
    "df.select(\n",
    "    \"pickup_date\", \"pickup_time\" , \"pickup_month\", \"pickup_day\", \"pickup_weekday\", \"pickup_hour\", \"pickup_minute\", \"pickup_second\", \n",
    "    \"pickup_week_hour\", \"dropoff_date\", \"dropoff_time\" , \"dropoff_month\", \"dropoff_day\", \"dropoff_hour\", \"dropoff_minute\", \"dropoff_second\"\n",
    ").show(truncate=False)\n"
   ]
  },
  {
   "cell_type": "code",
   "execution_count": 82,
   "metadata": {},
   "outputs": [
    {
     "name": "stdout",
     "output_type": "stream",
     "text": [
      "+---------------------+\n",
      "|trip_duration_seconds|\n",
      "+---------------------+\n",
      "|                  713|\n",
      "|                 2346|\n",
      "|                  393|\n",
      "|                 1599|\n",
      "|                  751|\n",
      "+---------------------+\n",
      "only showing top 5 rows\n",
      "\n"
     ]
    }
   ],
   "source": [
    "df = df.withColumn(\n",
    "    \"trip_duration_seconds\", \n",
    "    (F.unix_timestamp(\"tpep_dropoff_datetime\") - F.unix_timestamp(\"tpep_pickup_datetime\")) \n",
    ")\n",
    "df.select(\"trip_duration_seconds\").show(5)\n"
   ]
  },
  {
   "cell_type": "code",
   "execution_count": null,
   "metadata": {},
   "outputs": [],
   "source": []
  },
  {
   "cell_type": "code",
   "execution_count": 94,
   "metadata": {},
   "outputs": [
    {
     "name": "stderr",
     "output_type": "stream",
     "text": [
      "[Stage 226:====================================================>  (23 + 1) / 24]\r"
     ]
    },
    {
     "name": "stdout",
     "output_type": "stream",
     "text": [
      "+-------+------------------+\n",
      "|summary|         speed_mph|\n",
      "+-------+------------------+\n",
      "|  count|           6544767|\n",
      "|   mean|12.618293456669699|\n",
      "| stddev|  67.4970553301862|\n",
      "|    min|            -960.0|\n",
      "|    max|           58707.0|\n",
      "+-------+------------------+\n",
      "\n"
     ]
    },
    {
     "name": "stderr",
     "output_type": "stream",
     "text": [
      "                                                                                \r"
     ]
    }
   ],
   "source": [
    "df = df.withColumn(\"speed_mph\", F.col(\"trip_distance\") / (F.col(\"trip_duration_seconds\") / 3600))\n",
    "df.select(\"speed_mph\").describe().show(5)"
   ]
  },
  {
   "cell_type": "markdown",
   "metadata": {},
   "source": [
    "#### Visualize the Total trip duration throughout a day every day in July"
   ]
  },
  {
   "cell_type": "code",
   "execution_count": 90,
   "metadata": {},
   "outputs": [
    {
     "name": "stderr",
     "output_type": "stream",
     "text": [
      "                                                                                \r"
     ]
    },
    {
     "data": {
      "image/png": "[encoded data removed]",
      "text/plain": [
       "<Figure size 1000x500 with 1 Axes>"
      ]
     },
     "metadata": {},
     "output_type": "display_data"
    }
   ],
   "source": [
    "july_data = df.filter(F.col(\"pickup_month\") == 7)\n",
    "\n",
    "july_data = july_data.groupBy(\"pickup_day\").agg(\n",
    "    F.sum(\"trip_duration_seconds\").alias(\"total_trip_duration_seconds\"),\n",
    "    F.count(\"pickup_day\").alias(\"trip_count\")\n",
    ")\n",
    "\n",
    "july_data = july_data.orderBy(\"pickup_day\")\n",
    "\n",
    "pandas_july_data = july_data.toPandas()\n",
    "\n",
    "plt.figure(figsize=(10, 5))\n",
    "\n",
    "plt.plot(pandas_july_data['pickup_day'], pandas_july_data['total_trip_duration_seconds'], linestyle='-', marker='o', color='b', alpha=0.6)\n",
    "\n",
    "plt.title('Total Trip Duration in July by Day of the Month', fontsize=12)\n",
    "plt.xlabel('Day of the Month', fontsize=8)\n",
    "plt.ylabel('Total Trip Duration (Seconds)', fontsize=8)\n",
    "\n",
    "plt.grid(True)\n",
    "plt.tight_layout()\n",
    "plt.show()\n"
   ]
  },
  {
   "cell_type": "markdown",
   "metadata": {},
   "source": [
    "#### Visualize the number of trips occur in each hour throughout a day"
   ]
  },
  {
   "cell_type": "code",
   "execution_count": 89,
   "metadata": {},
   "outputs": [
    {
     "name": "stderr",
     "output_type": "stream",
     "text": [
      "                                                                                \r"
     ]
    },
    {
     "data": {
      "image/png": "[encoded data removed]",
      "text/plain": [
       "<Figure size 1000x500 with 1 Axes>"
      ]
     },
     "metadata": {},
     "output_type": "display_data"
    }
   ],
   "source": [
    "\n",
    "hourly_trip_count = df.groupBy(\"pickup_hour\").agg(\n",
    "    F.count(\"pickup_hour\").alias(\"trip_count\")\n",
    ")\n",
    "\n",
    "hourly_trip_count = hourly_trip_count.orderBy(\"pickup_hour\")\n",
    "\n",
    "pandas_hourly_trip_count = hourly_trip_count.toPandas()\n",
    "\n",
    "plt.figure(figsize=(10, 5))\n",
    "\n",
    "plt.bar(pandas_hourly_trip_count['pickup_hour'], pandas_hourly_trip_count['trip_count'], color='b', alpha=0.7)\n",
    "\n",
    "plt.title('Number of Trips by Hour of the Day', fontsize=12)\n",
    "plt.xlabel('Hour of the Day', fontsize=9)\n",
    "plt.ylabel('Number of Trips', fontsize=9)\n",
    "\n",
    "\n",
    "plt.grid(True)\n",
    "plt.tight_layout() \n",
    "plt.show()\n"
   ]
  }
 ],
 "metadata": {
  "kernelspec": {
   "display_name": "Python 3",
   "language": "python",
   "name": "python3"
  },
  "language_info": {
   "codemirror_mode": {
    "name": "ipython",
    "version": 3
   },
   "file_extension": ".py",
   "mimetype": "text/x-python",
   "name": "python",
   "nbconvert_exporter": "python",
   "pygments_lexer": "ipython3",
   "version": "3.11.4"
  }
 },
 "nbformat": 4,
 "nbformat_minor": 4
}
